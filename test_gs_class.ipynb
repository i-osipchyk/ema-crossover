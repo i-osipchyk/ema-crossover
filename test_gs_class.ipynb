{
 "cells": [
  {
   "cell_type": "code",
   "execution_count": 1,
   "id": "4783b507",
   "metadata": {},
   "outputs": [],
   "source": [
    "import numpy as np\n",
    "import pandas as pd\n",
    "\n",
    "from modules.google_sheets_manager import GoogleSheetsManager\n",
    "from modules.simulation import evaluate_trades\n",
    "from modules.download import download_data\n",
    "from modules.indicators import *"
   ]
  },
  {
   "cell_type": "code",
   "execution_count": 2,
   "id": "0cf6489a",
   "metadata": {},
   "outputs": [],
   "source": [
    "gs_url = \"https://docs.google.com/spreadsheets/d/16HZfFIu37ZG7kRgLDI9SqS5xPhb3pn3iY2ubOymVseU/edit#gid=1171524967\"\n",
    "\n",
    "gs_manager = GoogleSheetsManager(gs_url)"
   ]
  },
  {
   "cell_type": "markdown",
   "id": "39e2bc77",
   "metadata": {},
   "source": [
    "## Read Trades"
   ]
  },
  {
   "cell_type": "code",
   "execution_count": 3,
   "id": "8240c54c",
   "metadata": {},
   "outputs": [
    {
     "name": "stderr",
     "output_type": "stream",
     "text": [
      "/Users/ivanosipchyk/dev/investing/ema-crossover/modules/google_sheets_manager.py:152: FutureWarning: errors='ignore' is deprecated and will raise in a future version. Use to_numeric without passing `errors` and catch exceptions explicitly instead\n",
      "  df[col] = pd.to_numeric(df[col], errors=\"ignore\")\n"
     ]
    },
    {
     "data": {
      "text/html": [
       "<div>\n",
       "<style scoped>\n",
       "    .dataframe tbody tr th:only-of-type {\n",
       "        vertical-align: middle;\n",
       "    }\n",
       "\n",
       "    .dataframe tbody tr th {\n",
       "        vertical-align: top;\n",
       "    }\n",
       "\n",
       "    .dataframe thead th {\n",
       "        text-align: right;\n",
       "    }\n",
       "</style>\n",
       "<table border=\"1\" class=\"dataframe\">\n",
       "  <thead>\n",
       "    <tr style=\"text-align: right;\">\n",
       "      <th></th>\n",
       "      <th>Date</th>\n",
       "      <th>Symbol</th>\n",
       "      <th>Entry Price</th>\n",
       "      <th>Shares</th>\n",
       "      <th>Position Size</th>\n",
       "      <th>Stop Loss</th>\n",
       "      <th>Risk</th>\n",
       "      <th>Risk per Share</th>\n",
       "      <th>BE Price</th>\n",
       "      <th>BE Level</th>\n",
       "      <th>Position Left</th>\n",
       "      <th>Realized</th>\n",
       "      <th>Unrealized</th>\n",
       "      <th>TP Reached</th>\n",
       "      <th>Stop Rule</th>\n",
       "      <th>Offset</th>\n",
       "      <th>Max TP</th>\n",
       "      <th>Skip TP</th>\n",
       "      <th>TP Coef</th>\n",
       "    </tr>\n",
       "  </thead>\n",
       "  <tbody>\n",
       "    <tr>\n",
       "      <th>0</th>\n",
       "      <td>2025-09-24</td>\n",
       "      <td>COR</td>\n",
       "      <td>302.93</td>\n",
       "      <td>0.33</td>\n",
       "      <td>100</td>\n",
       "      <td>290.00</td>\n",
       "      <td>4.27</td>\n",
       "      <td>12.93</td>\n",
       "      <td>302.93</td>\n",
       "      <td>315.86</td>\n",
       "      <td>1</td>\n",
       "      <td>NaN</td>\n",
       "      <td>NaN</td>\n",
       "      <td>NaN</td>\n",
       "      <td>crossover</td>\n",
       "      <td>0</td>\n",
       "      <td>5</td>\n",
       "      <td>1</td>\n",
       "      <td>2</td>\n",
       "    </tr>\n",
       "    <tr>\n",
       "      <th>1</th>\n",
       "      <td>2025-09-24</td>\n",
       "      <td>HIG</td>\n",
       "      <td>132.46</td>\n",
       "      <td>0.75</td>\n",
       "      <td>100</td>\n",
       "      <td>130.00</td>\n",
       "      <td>1.86</td>\n",
       "      <td>2.46</td>\n",
       "      <td>132.46</td>\n",
       "      <td>134.92</td>\n",
       "      <td>1</td>\n",
       "      <td>NaN</td>\n",
       "      <td>NaN</td>\n",
       "      <td>NaN</td>\n",
       "      <td>crossover</td>\n",
       "      <td>0</td>\n",
       "      <td>5</td>\n",
       "      <td>1</td>\n",
       "      <td>2</td>\n",
       "    </tr>\n",
       "    <tr>\n",
       "      <th>2</th>\n",
       "      <td>2025-09-24</td>\n",
       "      <td>NJR</td>\n",
       "      <td>47.34</td>\n",
       "      <td>2.11</td>\n",
       "      <td>100</td>\n",
       "      <td>46.32</td>\n",
       "      <td>2.15</td>\n",
       "      <td>1.02</td>\n",
       "      <td>47.34</td>\n",
       "      <td>48.36</td>\n",
       "      <td>1</td>\n",
       "      <td>NaN</td>\n",
       "      <td>NaN</td>\n",
       "      <td>NaN</td>\n",
       "      <td>crossover</td>\n",
       "      <td>0</td>\n",
       "      <td>5</td>\n",
       "      <td>1</td>\n",
       "      <td>2</td>\n",
       "    </tr>\n",
       "    <tr>\n",
       "      <th>3</th>\n",
       "      <td>2025-09-24</td>\n",
       "      <td>AROC</td>\n",
       "      <td>26.00</td>\n",
       "      <td>3.85</td>\n",
       "      <td>100</td>\n",
       "      <td>24.56</td>\n",
       "      <td>5.54</td>\n",
       "      <td>1.44</td>\n",
       "      <td>26.00</td>\n",
       "      <td>27.44</td>\n",
       "      <td>1</td>\n",
       "      <td>NaN</td>\n",
       "      <td>NaN</td>\n",
       "      <td>NaN</td>\n",
       "      <td>crossover</td>\n",
       "      <td>0</td>\n",
       "      <td>5</td>\n",
       "      <td>1</td>\n",
       "      <td>2</td>\n",
       "    </tr>\n",
       "    <tr>\n",
       "      <th>4</th>\n",
       "      <td>2025-09-25</td>\n",
       "      <td>CB</td>\n",
       "      <td>279.76</td>\n",
       "      <td>0.36</td>\n",
       "      <td>100</td>\n",
       "      <td>275.50</td>\n",
       "      <td>1.52</td>\n",
       "      <td>4.26</td>\n",
       "      <td>279.76</td>\n",
       "      <td>284.02</td>\n",
       "      <td>1</td>\n",
       "      <td>NaN</td>\n",
       "      <td>NaN</td>\n",
       "      <td>NaN</td>\n",
       "      <td>crossover</td>\n",
       "      <td>0</td>\n",
       "      <td>5</td>\n",
       "      <td>1</td>\n",
       "      <td>2</td>\n",
       "    </tr>\n",
       "  </tbody>\n",
       "</table>\n",
       "</div>"
      ],
      "text/plain": [
       "        Date Symbol  Entry Price  Shares  Position Size  Stop Loss  Risk  \\\n",
       "0 2025-09-24    COR       302.93    0.33            100     290.00  4.27   \n",
       "1 2025-09-24    HIG       132.46    0.75            100     130.00  1.86   \n",
       "2 2025-09-24    NJR        47.34    2.11            100      46.32  2.15   \n",
       "3 2025-09-24   AROC        26.00    3.85            100      24.56  5.54   \n",
       "4 2025-09-25     CB       279.76    0.36            100     275.50  1.52   \n",
       "\n",
       "   Risk per Share  BE Price  BE Level  Position Left  Realized  Unrealized  \\\n",
       "0           12.93    302.93    315.86              1       NaN         NaN   \n",
       "1            2.46    132.46    134.92              1       NaN         NaN   \n",
       "2            1.02     47.34     48.36              1       NaN         NaN   \n",
       "3            1.44     26.00     27.44              1       NaN         NaN   \n",
       "4            4.26    279.76    284.02              1       NaN         NaN   \n",
       "\n",
       "   TP Reached  Stop Rule  Offset  Max TP  Skip TP  TP Coef  \n",
       "0         NaN  crossover       0       5        1        2  \n",
       "1         NaN  crossover       0       5        1        2  \n",
       "2         NaN  crossover       0       5        1        2  \n",
       "3         NaN  crossover       0       5        1        2  \n",
       "4         NaN  crossover       0       5        1        2  "
      ]
     },
     "execution_count": 3,
     "metadata": {},
     "output_type": "execute_result"
    }
   ],
   "source": [
    "read_trades_df = gs_manager.read_trades(\"Test\")\n",
    "read_trades_df.head()"
   ]
  },
  {
   "cell_type": "markdown",
   "id": "0ea67ae4",
   "metadata": {},
   "source": [
    "### PASS"
   ]
  },
  {
   "cell_type": "markdown",
   "id": "19324c62",
   "metadata": {},
   "source": [
    "## Write Potential Entries"
   ]
  },
  {
   "cell_type": "code",
   "execution_count": 4,
   "id": "7a498c3b",
   "metadata": {},
   "outputs": [],
   "source": [
    "today = np.datetime64(\"today\")\n",
    "mock_potential_entries = [([\"TEST\", \"TICKER\"], [\"FILTER\"])]\n",
    "gs_manager.write_potential_entries(today, mock_potential_entries)"
   ]
  },
  {
   "cell_type": "markdown",
   "id": "0135a679",
   "metadata": {},
   "source": [
    "### PASS"
   ]
  },
  {
   "cell_type": "markdown",
   "id": "8f66e3d2",
   "metadata": {},
   "source": [
    "## Read Previous Trading Day Entries"
   ]
  },
  {
   "cell_type": "code",
   "execution_count": 6,
   "id": "0f44056c",
   "metadata": {},
   "outputs": [
    {
     "name": "stdout",
     "output_type": "stream",
     "text": [
      "['ASB', 'BOX', 'BP', 'BZ', 'COLB', 'FHN', 'HSII', 'HWC', 'MAR', 'PFS', 'PHG', 'SANM', 'TNL', 'XYZ']\n"
     ]
    }
   ],
   "source": [
    "prev_day_entries = gs_manager.read_previous_trading_day_entries()\n",
    "print(prev_day_entries)"
   ]
  },
  {
   "cell_type": "markdown",
   "id": "5d845334",
   "metadata": {},
   "source": [
    "### PASS"
   ]
  },
  {
   "cell_type": "markdown",
   "id": "64aaf035",
   "metadata": {},
   "source": [
    "## Update Trades"
   ]
  },
  {
   "cell_type": "code",
   "execution_count": 14,
   "id": "811e3544",
   "metadata": {},
   "outputs": [
    {
     "data": {
      "text/html": [
       "<div>\n",
       "<style scoped>\n",
       "    .dataframe tbody tr th:only-of-type {\n",
       "        vertical-align: middle;\n",
       "    }\n",
       "\n",
       "    .dataframe tbody tr th {\n",
       "        vertical-align: top;\n",
       "    }\n",
       "\n",
       "    .dataframe thead th {\n",
       "        text-align: right;\n",
       "    }\n",
       "</style>\n",
       "<table border=\"1\" class=\"dataframe\">\n",
       "  <thead>\n",
       "    <tr style=\"text-align: right;\">\n",
       "      <th></th>\n",
       "      <th>Date</th>\n",
       "      <th>Symbol</th>\n",
       "      <th>Entry Price</th>\n",
       "      <th>Shares</th>\n",
       "      <th>Position Size</th>\n",
       "      <th>Stop Loss</th>\n",
       "      <th>Risk</th>\n",
       "      <th>Risk per Share</th>\n",
       "      <th>BE Price</th>\n",
       "      <th>BE Level</th>\n",
       "      <th>Position Left</th>\n",
       "      <th>Realized</th>\n",
       "      <th>Unrealized</th>\n",
       "      <th>TP Reached</th>\n",
       "      <th>Stop Rule</th>\n",
       "      <th>Offset</th>\n",
       "      <th>Max TP</th>\n",
       "      <th>Skip TP</th>\n",
       "      <th>TP Coef</th>\n",
       "    </tr>\n",
       "  </thead>\n",
       "  <tbody>\n",
       "    <tr>\n",
       "      <th>0</th>\n",
       "      <td>2025-10-06</td>\n",
       "      <td>HSII</td>\n",
       "      <td>58.15</td>\n",
       "      <td>0.64</td>\n",
       "      <td>37.2</td>\n",
       "      <td>50.33</td>\n",
       "      <td>5</td>\n",
       "      <td>7.82</td>\n",
       "      <td>58.15</td>\n",
       "      <td>65.97</td>\n",
       "      <td>1</td>\n",
       "      <td></td>\n",
       "      <td></td>\n",
       "      <td></td>\n",
       "      <td>crossover</td>\n",
       "      <td>-20</td>\n",
       "      <td>4</td>\n",
       "      <td>1</td>\n",
       "      <td>2</td>\n",
       "    </tr>\n",
       "  </tbody>\n",
       "</table>\n",
       "</div>"
      ],
      "text/plain": [
       "        Date Symbol  Entry Price  Shares  Position Size  Stop Loss  Risk  \\\n",
       "0 2025-10-06   HSII        58.15    0.64           37.2      50.33     5   \n",
       "\n",
       "   Risk per Share  BE Price  BE Level  Position Left Realized Unrealized  \\\n",
       "0            7.82     58.15     65.97              1                       \n",
       "\n",
       "  TP Reached  Stop Rule  Offset  Max TP  Skip TP  TP Coef  \n",
       "0             crossover     -20       4        1        2  "
      ]
     },
     "execution_count": 14,
     "metadata": {},
     "output_type": "execute_result"
    }
   ],
   "source": [
    "columns = [\n",
    "    \"Date\", \"Symbol\", \"Entry Price\", \"Shares\", \"Position Size\", \"Stop Loss\",\n",
    "    \"Risk\", \"Risk per Share\", \"BE Price\", \"BE Level\", \"Position Left\",\n",
    "    \"Realized\", \"Unrealized\", \"TP Reached\", \"Stop Rule\", \"Offset\",\n",
    "    \"Max TP\", \"Skip TP\", \"TP Coef\"\n",
    "]\n",
    "\n",
    "row = [\n",
    "    \"2025-10-06 0:00:00\", \"HSII\", 58.15, 0.64, 37.2, 50.33, 5, 7.82,\n",
    "    58.15, 65.97, 1, \"\", \"\", \"\", \"crossover\", -20, 4, 1, 2\n",
    "]\n",
    "\n",
    "mock_new_trades = pd.DataFrame([row], columns=columns)\n",
    "mock_new_trades[\"Date\"] = pd.to_datetime(mock_new_trades[\"Date\"])\n",
    "mock_new_trades.head()"
   ]
  },
  {
   "cell_type": "code",
   "execution_count": 15,
   "id": "b7cfc126",
   "metadata": {},
   "outputs": [
    {
     "data": {
      "text/html": [
       "<div>\n",
       "<style scoped>\n",
       "    .dataframe tbody tr th:only-of-type {\n",
       "        vertical-align: middle;\n",
       "    }\n",
       "\n",
       "    .dataframe tbody tr th {\n",
       "        vertical-align: top;\n",
       "    }\n",
       "\n",
       "    .dataframe thead th {\n",
       "        text-align: right;\n",
       "    }\n",
       "</style>\n",
       "<table border=\"1\" class=\"dataframe\">\n",
       "  <thead>\n",
       "    <tr style=\"text-align: right;\">\n",
       "      <th></th>\n",
       "      <th>Date</th>\n",
       "      <th>Symbol</th>\n",
       "      <th>Entry Price</th>\n",
       "      <th>Shares</th>\n",
       "      <th>Position Size</th>\n",
       "      <th>Stop Loss</th>\n",
       "      <th>Risk</th>\n",
       "      <th>Risk per Share</th>\n",
       "      <th>BE Price</th>\n",
       "      <th>BE Level</th>\n",
       "      <th>Position Left</th>\n",
       "      <th>Realized</th>\n",
       "      <th>Unrealized</th>\n",
       "      <th>TP Reached</th>\n",
       "      <th>Stop Rule</th>\n",
       "      <th>Offset</th>\n",
       "      <th>Max TP</th>\n",
       "      <th>Skip TP</th>\n",
       "      <th>TP Coef</th>\n",
       "    </tr>\n",
       "  </thead>\n",
       "  <tbody>\n",
       "    <tr>\n",
       "      <th>0</th>\n",
       "      <td>2025-10-06</td>\n",
       "      <td>SANM</td>\n",
       "      <td>160.25</td>\n",
       "      <td>0.13</td>\n",
       "      <td>21.52</td>\n",
       "      <td>123.02</td>\n",
       "      <td>5</td>\n",
       "      <td>37.23</td>\n",
       "      <td>160.25</td>\n",
       "      <td>197.48</td>\n",
       "      <td>1</td>\n",
       "      <td></td>\n",
       "      <td></td>\n",
       "      <td></td>\n",
       "      <td>crossover</td>\n",
       "      <td>-20</td>\n",
       "      <td>4</td>\n",
       "      <td>1</td>\n",
       "      <td>2</td>\n",
       "    </tr>\n",
       "  </tbody>\n",
       "</table>\n",
       "</div>"
      ],
      "text/plain": [
       "        Date Symbol  Entry Price  Shares  Position Size  Stop Loss  Risk  \\\n",
       "0 2025-10-06   SANM       160.25    0.13          21.52     123.02     5   \n",
       "\n",
       "   Risk per Share  BE Price  BE Level  Position Left Realized Unrealized  \\\n",
       "0           37.23    160.25    197.48              1                       \n",
       "\n",
       "  TP Reached  Stop Rule  Offset  Max TP  Skip TP  TP Coef  \n",
       "0             crossover     -20       4        1        2  "
      ]
     },
     "execution_count": 15,
     "metadata": {},
     "output_type": "execute_result"
    }
   ],
   "source": [
    "row = [\n",
    "    \"2025-10-06 0:00:00\", \"SANM\", 160.25, 0.13, 21.52, 123.02,\n",
    "    5, 37.23, 160.25, 197.48, 1, \"\", \"\", \"\", \"crossover\", -20,\n",
    "    4, 1, 2\n",
    "]\n",
    "\n",
    "mock_new_trades_2 = pd.DataFrame([row], columns=columns)\n",
    "mock_new_trades_2[\"Date\"] = pd.to_datetime(mock_new_trades_2[\"Date\"])\n",
    "mock_new_trades_2.head()"
   ]
  },
  {
   "cell_type": "code",
   "execution_count": 16,
   "id": "4583bf6b",
   "metadata": {},
   "outputs": [
    {
     "data": {
      "application/vnd.jupyter.widget-view+json": {
       "model_id": "8cf30f1ecbb54e28a5ed29944aea1cc4",
       "version_major": 2,
       "version_minor": 0
      },
      "text/plain": [
       "Downloading batches:   0%|          | 0/1 [00:00<?, ?it/s]"
      ]
     },
     "metadata": {},
     "output_type": "display_data"
    },
    {
     "data": {
      "application/vnd.jupyter.widget-view+json": {
       "model_id": "4e0b685cddc34826945465d64539e14e",
       "version_major": 2,
       "version_minor": 0
      },
      "text/plain": [
       "Processing symbols:   0%|          | 0/2 [00:00<?, ?it/s]"
      ]
     },
     "metadata": {},
     "output_type": "display_data"
    }
   ],
   "source": [
    "mock_historical_data = download_data(['HSII', 'SANM'], '200d', '1d')\n",
    "mock_historical_data_labeled = apply_to_dict(mock_historical_data, add_indicators)"
   ]
  },
  {
   "cell_type": "markdown",
   "id": "ea473bd3",
   "metadata": {},
   "source": [
    "### UC1: No Existing Tab"
   ]
  },
  {
   "cell_type": "code",
   "execution_count": 10,
   "id": "79fe5b36",
   "metadata": {},
   "outputs": [],
   "source": [
    "gs_manager.update_trades(\n",
    "    mock_new_trades, 'Non Exisitng Tab', \n",
    "    evaluate_trades, mock_historical_data_labeled\n",
    ")"
   ]
  },
  {
   "cell_type": "markdown",
   "id": "fa5d6884",
   "metadata": {},
   "source": [
    "### UC2: Empty Tab Exists"
   ]
  },
  {
   "cell_type": "code",
   "execution_count": 13,
   "id": "f4742636",
   "metadata": {},
   "outputs": [
    {
     "name": "stdout",
     "output_type": "stream",
     "text": [
      "⚠️ No trade data found.\n"
     ]
    }
   ],
   "source": [
    "gs_manager.update_trades(\n",
    "    mock_new_trades, 'Non Exisitng Tab', \n",
    "    evaluate_trades, mock_historical_data_labeled\n",
    ")"
   ]
  },
  {
   "cell_type": "markdown",
   "id": "e1def966",
   "metadata": {},
   "source": [
    "### UC3: Non-empty Tab Exists"
   ]
  },
  {
   "cell_type": "code",
   "execution_count": 17,
   "id": "c7b154d5",
   "metadata": {},
   "outputs": [
    {
     "name": "stderr",
     "output_type": "stream",
     "text": [
      "/Users/ivanosipchyk/dev/investing/ema-crossover/modules/google_sheets_manager.py:152: FutureWarning: errors='ignore' is deprecated and will raise in a future version. Use to_numeric without passing `errors` and catch exceptions explicitly instead\n",
      "  df[col] = pd.to_numeric(df[col], errors=\"ignore\")\n"
     ]
    }
   ],
   "source": [
    "gs_manager.update_trades(\n",
    "    mock_new_trades_2, 'Non Exisitng Tab', \n",
    "    evaluate_trades, mock_historical_data_labeled\n",
    ")"
   ]
  },
  {
   "cell_type": "markdown",
   "id": "955f668f",
   "metadata": {},
   "source": [
    "### PASS"
   ]
  },
  {
   "cell_type": "code",
   "execution_count": null,
   "id": "bc1e0f1d",
   "metadata": {},
   "outputs": [],
   "source": []
  }
 ],
 "metadata": {
  "kernelspec": {
   "display_name": "venv",
   "language": "python",
   "name": "python3"
  },
  "language_info": {
   "codemirror_mode": {
    "name": "ipython",
    "version": 3
   },
   "file_extension": ".py",
   "mimetype": "text/x-python",
   "name": "python",
   "nbconvert_exporter": "python",
   "pygments_lexer": "ipython3",
   "version": "3.13.5"
  }
 },
 "nbformat": 4,
 "nbformat_minor": 5
}
